{
 "cells": [
  {
   "cell_type": "code",
   "execution_count": null,
   "id": "5bf12216",
   "metadata": {},
   "outputs": [],
   "source": [
    "#Q.1 - what is list? How will you reverse a list?\n",
    "\n",
    "#A list is a mutable, ordered sequence of elements. Each element can be of any type, including other list.\n",
    "list1=[2,5,8,6,4]\n",
    "list1.reverse()\n",
    "print(list1)"
   ]
  },
  {
   "cell_type": "code",
   "execution_count": null,
   "id": "8cf27466",
   "metadata": {},
   "outputs": [],
   "source": [
    "#Q.2 - How will you remove last object from a list?\n",
    "\n",
    "a = [5,8,90,55,4]\n",
    "a.pop()\n",
    "print(a)"
   ]
  },
  {
   "cell_type": "code",
   "execution_count": null,
   "id": "19dbec9d",
   "metadata": {},
   "outputs": [],
   "source": [
    "#Q.3 - Suppose list1 is [2, 33, 222, 14, and 25], what is list1 [-1]?\n",
    "\n",
    "list1=[2,33,222,14,25]\n",
    "list1[-1]"
   ]
  },
  {
   "cell_type": "code",
   "execution_count": null,
   "id": "6d48bf9e",
   "metadata": {},
   "outputs": [],
   "source": [
    "#Q.4 - Differentiate between append () and extend () methods?\n",
    "\n",
    "#The append() method adds an element to the end of the list, \n",
    "#while the extend() method adds the elements of an iterable to the end of the list."
   ]
  },
  {
   "cell_type": "code",
   "execution_count": 33,
   "id": "e0283a03",
   "metadata": {},
   "outputs": [
    {
     "name": "stdout",
     "output_type": "stream",
     "text": [
      "[7, 45, 45, 45, 55, 55, 55, 78, 80, 95]\n",
      "largest number 95\n",
      "smallest number 7\n"
     ]
    }
   ],
   "source": [
    "#Q.5 - Write a Python function to get the largest number, smallest num and sum of all from a list.\n",
    "\n",
    "list1 = [7,80,55,45,55]\n",
    "list2 = [78,95,45,55,45]\n",
    "list3=list1+list2\n",
    "#print(list3)\n",
    "list3.sort()\n",
    "print(list3)\n",
    "print('largest number',list3[-1])\n",
    "print('smallest number',list3[0])"
   ]
  },
  {
   "cell_type": "code",
   "execution_count": null,
   "id": "6823f16d",
   "metadata": {},
   "outputs": [],
   "source": [
    "#Q.6- How will you compare two lists?\n",
    "list1=[2,3,4,5,6]\n",
    "list2=[2,3,5,6]\n",
    "if list1==list2:\n",
    "    print('True')\n",
    "else:\n",
    "    print('False')"
   ]
  },
  {
   "cell_type": "code",
   "execution_count": 39,
   "id": "8a2f76e9",
   "metadata": {},
   "outputs": [
    {
     "name": "stdout",
     "output_type": "stream",
     "text": [
      "aa\n"
     ]
    }
   ],
   "source": [
    "#Q.7 - Write a Python program to count the number of strings where the string length is 2 or more\n",
    "#and the first and last character are same from a given list of string.\n",
    "\n",
    "list1=['ajay','chaudhari','student','aa','a']\n",
    "for i in list1:\n",
    "    if len(i)>=2:\n",
    "        if i[0]==i[-1]:\n",
    "            print(i)"
   ]
  },
  {
   "cell_type": "code",
   "execution_count": 42,
   "id": "c36008c1",
   "metadata": {},
   "outputs": [
    {
     "data": {
      "text/plain": [
       "{4, 9, 45, 55, 78, 99}"
      ]
     },
     "execution_count": 42,
     "metadata": {},
     "output_type": "execute_result"
    }
   ],
   "source": [
    "#Q.8- Write a Python program to remove duplicates from a list.\n",
    "\n",
    "list1= [4,99,78,45,55,4,9,9,45]\n",
    "set(list1)"
   ]
  },
  {
   "cell_type": "code",
   "execution_count": 43,
   "id": "265bd0b5",
   "metadata": {},
   "outputs": [
    {
     "name": "stdout",
     "output_type": "stream",
     "text": [
      "list is empty\n"
     ]
    }
   ],
   "source": [
    "#Q.9 - Write a Python program to check a list is empty or not.\n",
    "list1=[]\n",
    "if len(list1)==0:\n",
    "    print('list is empty')\n",
    "else:\n",
    "    print('list is not empty')"
   ]
  },
  {
   "cell_type": "code",
   "execution_count": 46,
   "id": "1be74561",
   "metadata": {},
   "outputs": [
    {
     "name": "stdout",
     "output_type": "stream",
     "text": [
      "True\n"
     ]
    }
   ],
   "source": [
    "#Q.10 - Write a Python function that takes two lists and returns true if they have at least \n",
    "#one common member.\n",
    "\n",
    "list1=[1,2,4,6,8,9,45,55,65]\n",
    "list2=[1,2,4,55,8,9,65,6,45]\n",
    "ans=False\n",
    "for i in list1:\n",
    "    if i in list2:\n",
    "        continue\n",
    "    else:\n",
    "        print(ans)\n",
    "        break\n",
    "else:\n",
    "    ans=True\n",
    "    print(ans)"
   ]
  },
  {
   "cell_type": "code",
   "execution_count": 51,
   "id": "8823a0a6",
   "metadata": {},
   "outputs": [
    {
     "name": "stdout",
     "output_type": "stream",
     "text": [
      "1\n",
      "4\n",
      "27\n",
      "256\n",
      "3125\n",
      "6156119580207157310796674288400203776\n",
      "443426488243037769948249630619149892803\n",
      "33145523113253374862572728253364605812736\n",
      "2567686153161211134561828214731016126483469\n",
      "205891132094649000000000000000000000000000000\n"
     ]
    }
   ],
   "source": [
    "#Q.11- Write a Python program to generate and print a list of first and last 5 elements where the\n",
    "#      values are square of numbers between 1 and 30.\n",
    "\n",
    "list1=[1,2,3,4,5,26,27,28,29,30]\n",
    "for i in list1:\n",
    "    a=(i**i)\n",
    "    print(a)"
   ]
  },
  {
   "cell_type": "code",
   "execution_count": 52,
   "id": "aad6ba9f",
   "metadata": {},
   "outputs": [
    {
     "name": "stdout",
     "output_type": "stream",
     "text": [
      "[3, 4, 5, 7, 8, 9]\n"
     ]
    }
   ],
   "source": [
    "#Q.12-Write a Python function that takes a list and returns a new list with unique elements of the first list.\n",
    "\n",
    "list1=[4,7,8,8,9,9,9,5,7,3,3,3]\n",
    "list2=set(list1)\n",
    "x=list(list2)\n",
    "print(x)"
   ]
  },
  {
   "cell_type": "code",
   "execution_count": 53,
   "id": "f85117c5",
   "metadata": {},
   "outputs": [
    {
     "name": "stdout",
     "output_type": "stream",
     "text": [
      "ajay\n"
     ]
    }
   ],
   "source": [
    "#Q.13-Write a Python program to convert a list of characters into a string.\n",
    "\n",
    "list1=['a','j','a','y']\n",
    "str1=''\n",
    "for i in list1:\n",
    "    str1+=i\n",
    "print(str1)"
   ]
  },
  {
   "cell_type": "code",
   "execution_count": null,
   "id": "77378f28",
   "metadata": {},
   "outputs": [],
   "source": [
    "#Q.14 - Write a Python program to select an item randomly from a list."
   ]
  },
  {
   "cell_type": "code",
   "execution_count": 55,
   "id": "443b7fe4",
   "metadata": {},
   "outputs": [
    {
     "data": {
      "text/plain": [
       "8"
      ]
     },
     "execution_count": 55,
     "metadata": {},
     "output_type": "execute_result"
    }
   ],
   "source": [
    "#Q.15 -Write a Python program to find the second smallest number in a list.\n",
    "list1=[2,55,8,45,99,102]\n",
    "list1.sort()\n",
    "list1[1]   "
   ]
  },
  {
   "cell_type": "code",
   "execution_count": 63,
   "id": "cf952594",
   "metadata": {},
   "outputs": [
    {
     "data": {
      "text/plain": [
       "{5, 6, 7, 8, 9, 45}"
      ]
     },
     "execution_count": 63,
     "metadata": {},
     "output_type": "execute_result"
    }
   ],
   "source": [
    "#Q.16 - Write a Python program to get unique values from a list\n",
    "\n",
    "list1=[5,6,7,5,6,7,45,8,9,6,5,7]\n",
    "set(list1)"
   ]
  },
  {
   "cell_type": "code",
   "execution_count": 64,
   "id": "417d9630",
   "metadata": {},
   "outputs": [
    {
     "name": "stdout",
     "output_type": "stream",
     "text": [
      "[1, 2, 4, 5] true\n"
     ]
    }
   ],
   "source": [
    "#Q.17 - Write a Python program to check whether a list contains a sub list\n",
    "\n",
    "list1=['ajay',[1,2,4,5],{2,5,6,6},45,2.0]\n",
    "for i in list1:\n",
    "    if type(i)==list:\n",
    "        print(i,'true')\n",
    "        break\n",
    "else:\n",
    "    print('false')"
   ]
  },
  {
   "cell_type": "code",
   "execution_count": 66,
   "id": "d53b9175",
   "metadata": {},
   "outputs": [
    {
     "name": "stdout",
     "output_type": "stream",
     "text": [
      "[1, 2, 3, 4, 5] [6, 7, 8, 9, 10]\n"
     ]
    }
   ],
   "source": [
    "#Q.18- Write a Python program to split a list into different variables.\n",
    "\n",
    "listt=[1,2,3,4,5,6,7,8,9,10]\n",
    "list1=listt[:5]\n",
    "list2=listt[-5:]\n",
    "print(list1,list2)"
   ]
  },
  {
   "cell_type": "code",
   "execution_count": null,
   "id": "3e5e1e2a",
   "metadata": {},
   "outputs": [],
   "source": [
    "#Q.19 - What is tuple? Difference between list and tuple.\n",
    "\n",
    "#tuple:-ordered,indexed,immutable,allow duplicate values, you can store almost all datatypes.\n",
    "\n",
    "#list:-A list is a data structure in python that is a mutable, or changeable, ordered sequence of element.\n",
    "#tuple:-ordered,indexed,immutable,allow duplicate values, you can store almost all datatypes."
   ]
  },
  {
   "cell_type": "code",
   "execution_count": 68,
   "id": "d63cea2c",
   "metadata": {},
   "outputs": [
    {
     "name": "stdout",
     "output_type": "stream",
     "text": [
      "([1, 2, 3, 4], 'ajay', True, 5.0, 8, {2, 3, 4}, (1, 2, 3), {'a': 1, 'b': 2})\n"
     ]
    }
   ],
   "source": [
    "#Q.20- Write a Python program to create a tuple with different data types.\n",
    "\n",
    "tuple1=([1,2,3,4],'ajay',True,5.0,8,{2,3,4},(1,2,3),{'a':1,'b':2})\n",
    "print(tuple1)"
   ]
  },
  {
   "cell_type": "code",
   "execution_count": 69,
   "id": "d27965f2",
   "metadata": {},
   "outputs": [
    {
     "name": "stdout",
     "output_type": "stream",
     "text": [
      "(2, 4, 5, 5, 6)\n"
     ]
    }
   ],
   "source": [
    "#Q.21-Write a Python program to create a tuple with numbers.\n",
    "\n",
    "tuple1=2,4,5,5,6\n",
    "print(tuple(tuple1))"
   ]
  },
  {
   "cell_type": "code",
   "execution_count": 70,
   "id": "6dd6ce02",
   "metadata": {},
   "outputs": [
    {
     "name": "stdout",
     "output_type": "stream",
     "text": [
      "ajay\n"
     ]
    }
   ],
   "source": [
    "#Q.22 - Write a Python program to convert a tuple to a string.\n",
    "\n",
    "tuple1=('a','j','a','y')\n",
    "str1=''\n",
    "for i in tuple1:\n",
    "    str1+=i\n",
    "print(str1)"
   ]
  },
  {
   "cell_type": "code",
   "execution_count": 72,
   "id": "1b71ae12",
   "metadata": {},
   "outputs": [
    {
     "name": "stdout",
     "output_type": "stream",
     "text": [
      "True\n"
     ]
    }
   ],
   "source": [
    "#Q.23 -Write a Python program to check whether an element exists within a tuple.\n",
    "\n",
    "tuple1=(5,7,6,4,'a','c')\n",
    "print(5 in tuple1)"
   ]
  },
  {
   "cell_type": "code",
   "execution_count": 73,
   "id": "eea395c7",
   "metadata": {},
   "outputs": [
    {
     "data": {
      "text/plain": [
       "9"
      ]
     },
     "execution_count": 73,
     "metadata": {},
     "output_type": "execute_result"
    }
   ],
   "source": [
    "#Q.24 - Write a Python program to find the length of a tuple.\n",
    "x=(4,5,88,4,5,7,6,8,'ajay')\n",
    "len(x)"
   ]
  },
  {
   "cell_type": "code",
   "execution_count": 75,
   "id": "0e54a892",
   "metadata": {},
   "outputs": [
    {
     "name": "stdout",
     "output_type": "stream",
     "text": [
      "(1, 3, 5, 8, 7, 'ajay')\n"
     ]
    }
   ],
   "source": [
    "#Q.25 -Write a Python program to convert a list to a tuple.\n",
    "\n",
    "list1=[1,3,5,8,7,'ajay']\n",
    "tuple1=tuple(list1)\n",
    "print(tuple1)"
   ]
  },
  {
   "cell_type": "code",
   "execution_count": 77,
   "id": "5f179ca3",
   "metadata": {},
   "outputs": [
    {
     "name": "stdout",
     "output_type": "stream",
     "text": [
      "(7, 6, 4, 5, 1)\n"
     ]
    }
   ],
   "source": [
    "#Q.26 -Write a Python program to reverse a tuple.\n",
    "\n",
    "tuple1=[1,5,4,6,7]\n",
    "a=list(tuple1)\n",
    "a.reverse()\n",
    "b=tuple(a)\n",
    "print(b)"
   ]
  },
  {
   "cell_type": "code",
   "execution_count": null,
   "id": "dedf4465",
   "metadata": {},
   "outputs": [],
   "source": [
    "#Q.27 -Write a Python program to replace last value of tuples in a list.\n",
    "list1=[(25,45,35),(5,7),(90,34),(12,34,45)]\n",
    "idx=0\n",
    "for i in "
   ]
  },
  {
   "cell_type": "code",
   "execution_count": 80,
   "id": "7dfccff9",
   "metadata": {},
   "outputs": [
    {
     "data": {
      "text/plain": [
       "1"
      ]
     },
     "execution_count": 80,
     "metadata": {},
     "output_type": "execute_result"
    }
   ],
   "source": [
    "#Q.28 - Write a Python program to find the repeated items of a tuple.\n",
    "\n",
    "tuple1=(1,5,5,3,4,6,7,9,9)\n",
    "tuple1.count(6)"
   ]
  },
  {
   "cell_type": "code",
   "execution_count": 81,
   "id": "9ed8fb30",
   "metadata": {},
   "outputs": [
    {
     "name": "stdout",
     "output_type": "stream",
     "text": [
      "[('ajay',), 'aj', (3, 4, 8, 7)]\n"
     ]
    }
   ],
   "source": [
    "#Q.29 -Write a Python program to remove an empty tuple(s) from a list of tuples.\n",
    "tuple1=[('ajay',),('aj'),(),(3,4,8,7),(),()]\n",
    "list1=[]\n",
    "for i in tuple1:\n",
    "    if len(i)!=0:\n",
    "        list1.append(i)\n",
    "print(list1)"
   ]
  },
  {
   "cell_type": "code",
   "execution_count": null,
   "id": "1b06655f",
   "metadata": {},
   "outputs": [],
   "source": [
    "#Q.30 - Write a Python program to unzip a list of tuples into individual lists.\n",
    "\n",
    "a,b,c=(55,45,66)\n",
    "print(a,b,c)    #tuple unpacking(unzip)"
   ]
  },
  {
   "cell_type": "code",
   "execution_count": 82,
   "id": "07ca9d87",
   "metadata": {},
   "outputs": [
    {
     "name": "stdout",
     "output_type": "stream",
     "text": [
      "{55: 45, 30: 2, 25: 41}\n"
     ]
    }
   ],
   "source": [
    "#Q.31 -Write a Python program to convert a list of tuples into a dictionary.\n",
    "\n",
    "tuplea=[(55,45),(30,2),(25,41)]\n",
    "dict1=dict(tuplea)\n",
    "print(dict1)"
   ]
  },
  {
   "cell_type": "code",
   "execution_count": 83,
   "id": "3da97c67",
   "metadata": {},
   "outputs": [
    {
     "data": {
      "text/plain": [
       "{'a': 5, 'b': 4, 'c': 25}"
      ]
     },
     "execution_count": 83,
     "metadata": {},
     "output_type": "execute_result"
    }
   ],
   "source": [
    "#Q.32 - How will you create a dictionary using tuples in python?\n",
    "\n",
    "tuple1=(('a',5),('b',4),('c',25))\n",
    "dict(tuple1)"
   ]
  },
  {
   "cell_type": "code",
   "execution_count": 84,
   "id": "5dbbbd29",
   "metadata": {},
   "outputs": [
    {
     "name": "stdout",
     "output_type": "stream",
     "text": [
      "ascending\n",
      "{'d': -5, 'c': 1, 'e': 4, 'b': 25, 'a': 50}\n",
      "descending\n",
      "{'a': 50, 'b': 25, 'e': 4, 'c': 1, 'd': -5}\n"
     ]
    }
   ],
   "source": [
    "#Q.33 -Write a Python script to sort (ascending and descending) a dictionary by value.\n",
    "\n",
    "dict1={'a':50,'b':25,'c':1,'d':-5,'e':4}\n",
    "a1=dict(sorted(dict1.items(),key=lambda a:a[1]))\n",
    "a2=dict(sorted(dict1.items(),key=lambda a:a[1],reverse=True))\n",
    "print('ascending',a1,'descending',a2,sep='\\n')"
   ]
  },
  {
   "cell_type": "code",
   "execution_count": 85,
   "id": "ea17c41b",
   "metadata": {},
   "outputs": [
    {
     "name": "stdout",
     "output_type": "stream",
     "text": [
      "{2: 3, 5: 7, 8: 10}\n"
     ]
    }
   ],
   "source": [
    "#Q.34 - Write a Python script to concatenate following dictionaries to create a new one.\n",
    "\n",
    "dict1={2:3,5:7}\n",
    "dict2={5:7,8:10}\n",
    "dict3={}\n",
    "for d in (dict1,dict2):\n",
    "    dict3.update(d)\n",
    "print(dict3)"
   ]
  },
  {
   "cell_type": "code",
   "execution_count": 87,
   "id": "da3cec88",
   "metadata": {},
   "outputs": [
    {
     "name": "stdout",
     "output_type": "stream",
     "text": [
      "e\n",
      "e does not exists\n"
     ]
    }
   ],
   "source": [
    "#Q.35 -Write a Python script to check if a given key already exists in a dictionary.\n",
    "\n",
    "dict1={'a':9,'b':4,'c':5,'d':7}\n",
    "key=input()\n",
    "if key in dict1.keys():\n",
    "    print(key,'already exists')\n",
    "else:\n",
    "    print(key,'does not exists')"
   ]
  },
  {
   "cell_type": "code",
   "execution_count": null,
   "id": "61867781",
   "metadata": {},
   "outputs": [],
   "source": [
    "#Q.36-How Do You Traverse Through A Dictionary Object In Python?"
   ]
  },
  {
   "cell_type": "code",
   "execution_count": 88,
   "id": "2eea0380",
   "metadata": {},
   "outputs": [
    {
     "name": "stdout",
     "output_type": "stream",
     "text": [
      "c\n",
      "c present\n"
     ]
    }
   ],
   "source": [
    "#Q.37-How Do You Check The Presence Of A Key In A Dictionary?\n",
    "dict1={'a':9,'b':4,'c':5,'d':7}\n",
    "key=input()\n",
    "if key in dict1.keys():\n",
    "    print(key,'present')\n",
    "else:\n",
    "    print(key,'not present')"
   ]
  },
  {
   "cell_type": "code",
   "execution_count": 89,
   "id": "f13027a6",
   "metadata": {},
   "outputs": [
    {
     "name": "stdout",
     "output_type": "stream",
     "text": [
      "{1: None, 2: None, 3: None, 4: None, 5: None, 6: None, 7: None, 8: None, 9: None, 10: None, 11: None, 12: None, 13: None, 14: None, 15: None}\n"
     ]
    }
   ],
   "source": [
    "#Q.38-Write a Python script to print a dictionary where the keys are numbers between 1 and 15.\n",
    "\n",
    "dict1=dict()\n",
    "for i in range(1,16):\n",
    "    dict1[i]=None\n",
    "print(dict1)"
   ]
  },
  {
   "cell_type": "code",
   "execution_count": null,
   "id": "0e6b88c1",
   "metadata": {},
   "outputs": [],
   "source": [
    "#Q.39 -Write a Python program to check multiple keys exists in a dictionary"
   ]
  },
  {
   "cell_type": "code",
   "execution_count": 92,
   "id": "c39cfba6",
   "metadata": {},
   "outputs": [
    {
     "name": "stdout",
     "output_type": "stream",
     "text": [
      "{1: 2, 5: 6, 4: 7, 2: 4, 7: 9}\n"
     ]
    }
   ],
   "source": [
    "#Q.40 -Write a Python script to merge two Python dictionaries\n",
    "dict1={1:2,5:6,4:7}\n",
    "dict2={2:4,5:6,7:9}\n",
    "dict3=dict1.copy()\n",
    "dict3.update(dict2)\n",
    "print(dict3)"
   ]
  },
  {
   "cell_type": "code",
   "execution_count": 94,
   "id": "7b705dfa",
   "metadata": {},
   "outputs": [
    {
     "name": "stdout",
     "output_type": "stream",
     "text": [
      "{'ajay': 1, 'rohit': 2, 'vicky': 3}\n"
     ]
    }
   ],
   "source": [
    "#Q.41 -Write a Python program to map two lists into a dictionary\n",
    "\n",
    "list1=['ajay','rohit','vicky']\n",
    "list2=[1,2,3]\n",
    "dict1=dict(zip(list1,list2))\n",
    "print(dict1)"
   ]
  },
  {
   "cell_type": "code",
   "execution_count": 95,
   "id": "a4e515a4",
   "metadata": {},
   "outputs": [
    {
     "name": "stdout",
     "output_type": "stream",
     "text": [
      "{'a': 400, 'b': 400}\n"
     ]
    }
   ],
   "source": [
    "#Q.42 - Write a Python program to combine two dictionary adding values for common keys.\n",
    "d1 = {'a': 100, 'b': 200, 'c':300}\n",
    "d2 = {'a': 300, 'b': 200,'d':400}\n",
    "d3={}\n",
    "for i,j in d1.items():\n",
    "    for x,y in d2.items():\n",
    "        if i==x:                     #pending\n",
    "            d3[i]=(j+y)\n",
    "print(d3)"
   ]
  },
  {
   "cell_type": "code",
   "execution_count": null,
   "id": "86f2e1dc",
   "metadata": {},
   "outputs": [],
   "source": [
    "#Q.43 -Write a Python program to print all unique values in a dictionary."
   ]
  },
  {
   "cell_type": "code",
   "execution_count": null,
   "id": "94eb25ab",
   "metadata": {},
   "outputs": [],
   "source": [
    "#Q.44 - Why Do You Use the Zip () Method in Python?"
   ]
  }
 ],
 "metadata": {
  "kernelspec": {
   "display_name": "Python 3 (ipykernel)",
   "language": "python",
   "name": "python3"
  },
  "language_info": {
   "codemirror_mode": {
    "name": "ipython",
    "version": 3
   },
   "file_extension": ".py",
   "mimetype": "text/x-python",
   "name": "python",
   "nbconvert_exporter": "python",
   "pygments_lexer": "ipython3",
   "version": "3.9.12"
  }
 },
 "nbformat": 4,
 "nbformat_minor": 5
}
