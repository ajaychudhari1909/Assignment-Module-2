{
 "cells": [
  {
   "cell_type": "code",
   "execution_count": null,
   "id": "110ec309",
   "metadata": {},
   "outputs": [],
   "source": [
    "#Q.1 - write a python program to check if a number is positive,negative or zero.\n",
    "\n",
    "\n",
    "num = int(input())\n",
    "\n",
    "if num >0:\n",
    "    print('positive')\n",
    "    \n",
    "elif num == 0:\n",
    "    print('zero')\n",
    "else:\n",
    "    print('negetive')"
   ]
  },
  {
   "cell_type": "code",
   "execution_count": null,
   "id": "c6cf9be1",
   "metadata": {},
   "outputs": [],
   "source": [
    "#Q.2 - write a python program to get the factorial number of given number.\n",
    "\n",
    "a = int(input())\n",
    "b=1\n",
    "while a != 0:\n",
    "    b = a*b\n",
    "    a -= 1\n",
    "print(b)"
   ]
  },
  {
   "cell_type": "code",
   "execution_count": null,
   "id": "533b778b",
   "metadata": {},
   "outputs": [],
   "source": [
    "#Q.3 - write a python program to get the fibonacci series of given range.\n",
    "\n",
    "a = int(input())\n",
    "\n",
    "x=0\n",
    "y=1\n",
    "z=0\n",
    "\n",
    "while z<=a:\n",
    "    print(z, end=',')\n",
    "    x=y\n",
    "    y=z\n",
    "    z=x+y"
   ]
  },
  {
   "cell_type": "code",
   "execution_count": null,
   "id": "5c0ef913",
   "metadata": {},
   "outputs": [],
   "source": [
    "#Q.4 - how memory is managed in python.\n",
    "\n",
    "#in python memory is managed dynamically with private loop space"
   ]
  },
  {
   "cell_type": "code",
   "execution_count": null,
   "id": "d28b4b58",
   "metadata": {},
   "outputs": [],
   "source": [
    "#Q.5 - what is the purpose continue statement in python.\n",
    "\n",
    "#skips the rest of the current iteration and continues from the next iteration"
   ]
  },
  {
   "cell_type": "code",
   "execution_count": null,
   "id": "bf3f8837",
   "metadata": {},
   "outputs": [],
   "source": [
    "#Q.6 - write python programe that swap two number with temp variable and without temp variable.\n",
    "\n",
    "a=int(input())\n",
    "b=int(input())\n",
    "\n",
    "a=a+b \n",
    "b=a-b \n",
    "a=a-b \n",
    "print(a,b)\n"
   ]
  },
  {
   "cell_type": "code",
   "execution_count": null,
   "id": "1b72b8c6",
   "metadata": {},
   "outputs": [],
   "source": [
    "#Q.7 - write a python program to wether a given number is even or odd, print out appropriate message to the user.\n",
    "\n",
    "i = int(input())\n",
    "if i%2==0:\n",
    "    print('even')\n",
    "else:\n",
    "    print('odd')\n",
    " "
   ]
  },
  {
   "cell_type": "code",
   "execution_count": null,
   "id": "3685159b",
   "metadata": {},
   "outputs": [],
   "source": [
    "#Q.8 - write python program to test whether a passed letter is a vowel or not.\n",
    "\n",
    "l=input()\n",
    "if l in ('a','e','i','o','u','A','E','I','O','U'):\n",
    "    print('vowel')\n",
    "\n",
    "else:\n",
    "    print('not vowel')"
   ]
  },
  {
   "cell_type": "code",
   "execution_count": null,
   "id": "46477039",
   "metadata": {},
   "outputs": [],
   "source": [
    "#Q.9 - write the python program to sum of three given integers. however, if two values are equal sum will be zero.\n",
    "\n",
    "a=int(input()) \n",
    "b=int(input()) \n",
    "c=int(input()) \n",
    "if a == b or b==c or c==a:\n",
    "    print('sum is zero')\n",
    "else:\n",
    "    print(a+b+c)"
   ]
  },
  {
   "cell_type": "code",
   "execution_count": null,
   "id": "bdd56fb6",
   "metadata": {},
   "outputs": [],
   "source": [
    "#Q.10 - write a python program that will return true if the two given integervalues are equal or their sum or difference is 5.\n",
    "\n",
    "a=int(input())\n",
    "b=int(input())\n",
    "\n",
    "if a==b or (a+b)==5 or (a-b)==5:\n",
    "    print('true')\n",
    "else:\n",
    "    print('false')"
   ]
  },
  {
   "cell_type": "code",
   "execution_count": null,
   "id": "785fddc8",
   "metadata": {},
   "outputs": [],
   "source": [
    "#Q.11 -Write a python program to sum of the first n positive integers.\n",
    "\n",
    "a = int(input())\n",
    "b=1\n",
    "while a != 0:\n",
    "    b = a+b\n",
    "    a -= 1\n",
    "print(b)"
   ]
  },
  {
   "cell_type": "code",
   "execution_count": null,
   "id": "c4ccc1f8",
   "metadata": {},
   "outputs": [],
   "source": [
    "#Q.12 - write a python program to calculate the length of a string.\n",
    "a = 'this is python'\n",
    "len(a)"
   ]
  },
  {
   "cell_type": "code",
   "execution_count": null,
   "id": "28063222",
   "metadata": {},
   "outputs": [],
   "source": [
    "#Q.13 - write a python program to count the number of characters(character frequaency) in a string.\n",
    "a= 'ajay'\n",
    "str1 = a.strip()\n",
    "for i in str1:\n",
    "    print(i, a.count(i))"
   ]
  },
  {
   "cell_type": "code",
   "execution_count": null,
   "id": "2ec9748d",
   "metadata": {},
   "outputs": [],
   "source": [
    "#Q.14 - what are negative indexes and why are they used.\n",
    "varl1 = 'this is python'\n",
    "varl1[-2]\n",
    "#we can use negative indexing as your advantage when u want to pick values from the end right side of an iterable."
   ]
  },
  {
   "cell_type": "code",
   "execution_count": null,
   "id": "e06f63a2",
   "metadata": {},
   "outputs": [],
   "source": [
    "#Q.15 - write a python program to count occurrences of a substring in a string.\n",
    "a='ajaychaudhari'\n",
    "a.count('a')"
   ]
  },
  {
   "cell_type": "code",
   "execution_count": null,
   "id": "c01a2107",
   "metadata": {},
   "outputs": [],
   "source": [
    "#Q.16 - write a pythone program to count the occurrences of each word in a given sentences.\n",
    "\n",
    "a= 'this is python language. it is a programming language.'\n",
    "list1 = a.split()\n",
    "for i in list1:\n",
    "    print(i, a.count(i))"
   ]
  },
  {
   "cell_type": "code",
   "execution_count": null,
   "id": "61e64ae7",
   "metadata": {},
   "outputs": [],
   "source": [
    "##Q.17 - write a python program to get single string from two given strings, sepreted by space and \n",
    "#       swap the first two characters of each string.\n",
    "a = 'ajay'\n",
    "b = 'chaudhari'\n",
    "b[:2] + a[2:] + ' ' + a[:2] + b[2:]"
   ]
  },
  {
   "cell_type": "code",
   "execution_count": null,
   "id": "79844dcb",
   "metadata": {},
   "outputs": [],
   "source": [
    "#Q.18 - write a python program to add 'ing' at the end of a given string(length should be at least 3). \n",
    "#       if the given string already ends with 'ing' then add 'ly' instead if the string length of the\n",
    "#       given string is less than 3, leave it unchanged.\n",
    "\n",
    "a = 'aja'\n",
    "if len(a)>=3:\n",
    "    if a.endswith('ing'):\n",
    "        print(a+'ly')\n",
    "    else:\n",
    "        print(a+'ing')"
   ]
  },
  {
   "cell_type": "code",
   "execution_count": null,
   "id": "22408c65",
   "metadata": {},
   "outputs": [],
   "source": [
    "#Q.19 - Write a python program to find the first appearance of the substring 'not' and 'poor' from a \n",
    "#given string, if 'not' follows the 'poor', replace the whole 'not'...'poor' substring with 'good'.\n",
    "#return the resulting string\n",
    "\n",
    "str1=input()\n",
    "n=str1.find('not')\n",
    "p=str1.find('poor')\n",
    "\n",
    "if n<p and n!=-1:\n",
    "    s=str1.replace(str[n:(p+4)],'good')\n",
    "    print(s)\n",
    "else:\n",
    "    print(str1)"
   ]
  },
  {
   "cell_type": "code",
   "execution_count": null,
   "id": "20cdfe6f",
   "metadata": {},
   "outputs": [],
   "source": [
    "#Q.20 - Write a python function that takes a list of words and returns the length of the longest one.\n",
    "\n",
    "list1=['python','assignment','python programming','python assignment']\n",
    "l1=[]\n",
    "for i in list1:\n",
    "    l1.append(len(i))\n",
    "    \n",
    "l1.sort()\n",
    "print(l1[-1])"
   ]
  },
  {
   "cell_type": "code",
   "execution_count": null,
   "id": "e27dd2f5",
   "metadata": {},
   "outputs": [],
   "source": [
    "#Q.21 - write a python function to reverses a string if its length is a multiple of 4.\n",
    "\n",
    "n = input()\n",
    "a = len(n)\n",
    "if a%4==0:\n",
    "    print(n[::-1])\n",
    "else:\n",
    "    print(n)"
   ]
  },
  {
   "cell_type": "code",
   "execution_count": null,
   "id": "f416e5e1",
   "metadata": {},
   "outputs": [],
   "source": [
    "#Write a Python program to get a string made of the first 2 and the last 2 chars from a given a string. If the string length is less than 2, return instead of the empty string.\n",
    "#o Sample String: w3resource'\n",
    "#o Expected Result: 'w3ce'\n",
    "#o Sample String: 'w3'\n",
    "#o Expected Result: 'w3w3'\n",
    "#o Sample String: ' w'\n",
    "#o Expected Result: Empty String\n",
    "#Ans - 22\n",
    "a = input()\n",
    "if len(a)<2:\n",
    "    print('empty string')\n",
    "if len(a)==2:\n",
    "    print(a+a)\n",
    "if len(a)>2:\n",
    "    print(a[:2] + a[-2:])"
   ]
  },
  {
   "cell_type": "code",
   "execution_count": null,
   "id": "42456ad1",
   "metadata": {},
   "outputs": [],
   "source": [
    "#Q.23 - write a python function to insert a string in the middle of a string.\n",
    "\n",
    "a=input()\n",
    "middle=input()\n",
    "a[:len(a)//2] + middle + a[len(a)//2:]"
   ]
  },
  {
   "cell_type": "code",
   "execution_count": null,
   "id": "561eaa89",
   "metadata": {},
   "outputs": [],
   "source": []
  },
  {
   "cell_type": "code",
   "execution_count": null,
   "id": "a92507c2",
   "metadata": {},
   "outputs": [],
   "source": []
  },
  {
   "cell_type": "code",
   "execution_count": null,
   "id": "6c3cee19",
   "metadata": {},
   "outputs": [],
   "source": []
  },
  {
   "cell_type": "code",
   "execution_count": null,
   "id": "953d0fc1",
   "metadata": {},
   "outputs": [],
   "source": []
  }
 ],
 "metadata": {
  "kernelspec": {
   "display_name": "Python 3 (ipykernel)",
   "language": "python",
   "name": "python3"
  },
  "language_info": {
   "codemirror_mode": {
    "name": "ipython",
    "version": 3
   },
   "file_extension": ".py",
   "mimetype": "text/x-python",
   "name": "python",
   "nbconvert_exporter": "python",
   "pygments_lexer": "ipython3",
   "version": "3.9.12"
  }
 },
 "nbformat": 4,
 "nbformat_minor": 5
}
